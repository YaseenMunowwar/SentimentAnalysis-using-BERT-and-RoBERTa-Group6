{
 "cells": [
  {
   "cell_type": "markdown",
   "source": [
    "DATA PREPROCESSING\n",
    "\n",
    "- loaded the dataset and performed random sampling\n",
    "- preprocessed the dataset; cleaned the text, removed unnecessary columns, handle missing values, and created sentiment labels\n",
    "- tokenization"
   ],
   "metadata": {
    "collapsed": false
   },
   "id": "37a6a0eb538a2b9c"
  },
  {
   "cell_type": "code",
   "execution_count": null,
   "outputs": [],
   "source": [
    "!pip install transformers\n",
    "!pip install torch"
   ],
   "metadata": {
    "collapsed": false
   },
   "id": "5d678824de05936c"
  },
  {
   "cell_type": "code",
   "execution_count": null,
   "outputs": [],
   "source": [
    "#imports\n",
    "import pandas as pd\n",
    "import random\n",
    "import re\n",
    "\n",
    "from transformers import BertTokenizer"
   ],
   "metadata": {
    "collapsed": false
   },
   "id": "ab3198fa581a9777"
  },
  {
   "cell_type": "code",
   "execution_count": null,
   "outputs": [],
   "source": [
    "from google.colab import drive\n",
    "drive.mount('/content/drive')\n",
    "\n",
    "reviews_path = '/content/drive/My Drive/yelp_academic_dataset_review.json'\n",
    "\n",
    "#random sampling\n",
    "desired_sample_size = 30000\n",
    "approximate_dataset_size = 6000000  #estimate\n",
    "sampling_fraction = desired_sample_size / approximate_dataset_size\n",
    "\n",
    "chunk_size = 100000\n",
    "sampled_df = pd.DataFrame()\n",
    "\n",
    "for chunk in pd.read_json(reviews_path, lines =True, chunksize=chunk_size):\n",
    "    sampled_chunk = chunk.sample(frac=sampling_fraction)\n",
    "    sampled_df = pd.concat([sampled_df, sampled_chunk])\n",
    "\n",
    "reviews_df = sampled_df.sample(n=30000)\n"
   ],
   "metadata": {
    "collapsed": false
   },
   "id": "4d1cceb8d4f6efff"
  },
  {
   "cell_type": "code",
   "execution_count": null,
   "outputs": [],
   "source": [
    "print(reviews_df.shape)"
   ],
   "metadata": {
    "collapsed": false
   },
   "id": "c5e4230ebf2fb855"
  },
  {
   "cell_type": "code",
   "execution_count": null,
   "outputs": [],
   "source": [
    "#choose relevant columns\n",
    "reviews_df = reviews_df[['text', 'stars']]\n",
    "\n",
    "#drop missing values\n",
    "reviews_df.dropna(inplace=True)\n",
    "\n",
    "#lowercasing all the text\n",
    "reviews_df['text'] = reviews_df['text'].str.lower()\n",
    "\n",
    "#removing unnecessary information\n",
    "reviews_df['text'] = reviews_df['text'].apply(lambda x: re.sub('<.*?>', '', x))\n",
    "reviews_df['text'] = reviews_df['text'].apply(lambda x: re.sub(r'http\\S+', '', x))\n",
    "reviews_df['text'] = reviews_df['text'].apply(lambda x: re.sub(r'[^a-zA-Z\\s]', '', x))\n",
    "\n",
    "#convert ratings to sentiment labels\n",
    "reviews_df['sentiment'] = reviews_df['stars'].apply(lambda x: 1 if x > 3 else 0)\n",
    "\n",
    "reviews_df.head()"
   ],
   "metadata": {
    "collapsed": false
   },
   "id": "13dd7162c1c36550"
  },
  {
   "cell_type": "code",
   "execution_count": null,
   "outputs": [],
   "source": [
    "tokenizer = BertTokenizer.from_pretrained('bert-base-uncased')\n",
    "max_length = 512\n",
    "\n",
    "def tokenize_map(sentence):\n",
    "\n",
    "    tokens = tokenizer.encode_plus(sentence, max_length=max_length, truncation=True,\n",
    "                                   padding='max_length', add_special_tokens=True,\n",
    "                                   return_tensors='pt')\n",
    "    return tokens\n",
    "\n",
    "# Apply the tokenizer to the text\n",
    "reviews_df['tokens'] = reviews_df['text'].apply(tokenize_map)\n"
   ],
   "metadata": {
    "collapsed": false
   },
   "id": "647a87f7421b830"
  },
  {
   "cell_type": "code",
   "execution_count": null,
   "outputs": [],
   "source": [
    "input_ids = reviews_df['tokens'].apply(lambda x: x['input_ids'])\n",
    "attention_masks = reviews_df['tokens'].apply(lambda x: x['attention_mask'])\n",
    "labels = reviews_df['sentiment']\n"
   ],
   "metadata": {
    "collapsed": false
   },
   "id": "a849693d1bcf3d63"
  }
 ],
 "metadata": {
  "kernelspec": {
   "display_name": "Python 3",
   "language": "python",
   "name": "python3"
  },
  "language_info": {
   "codemirror_mode": {
    "name": "ipython",
    "version": 2
   },
   "file_extension": ".py",
   "mimetype": "text/x-python",
   "name": "python",
   "nbconvert_exporter": "python",
   "pygments_lexer": "ipython2",
   "version": "2.7.6"
  }
 },
 "nbformat": 4,
 "nbformat_minor": 5
}
