{
 "cells": [
  {
   "cell_type": "code",
   "execution_count": 4,
   "id": "initial_id",
   "metadata": {
    "collapsed": true,
    "ExecuteTime": {
     "end_time": "2023-12-01T08:52:41.613072300Z",
     "start_time": "2023-12-01T08:52:41.609480400Z"
    }
   },
   "outputs": [],
   "source": [
    "import re\n",
    "def clean_text(text):\n",
    "    \n",
    "    text = re.sub(r'<.*?>', '', text)  # remove HTML tags\n",
    "    text = re.sub(r'[^\\w\\s]', '', text)  # remove punctuation\n",
    "    text = text.lower()  # convert to lowercase\n",
    "    return text\n",
    "\n",
    "def preprocess_chunk(chunk):\n",
    "    # Select relevant columns\n",
    "    chunk = chunk[['text', 'stars']]\n",
    "\n",
    "    # Clean text data\n",
    "    chunk['text'] = chunk['text'].apply(clean_text)\n",
    "\n",
    "    # Convert stars to binary sentiment labels (1-3 stars as 0, 4-5 stars as 1)\n",
    "    chunk['sentiment'] = chunk['stars'].apply(lambda x: 1 if x > 3 else 0)\n",
    "\n",
    "    # Handle missing values\n",
    "    chunk.dropna(inplace=True)\n",
    "\n",
    "    return chunk"
   ]
  },
  {
   "cell_type": "code",
   "execution_count": null,
   "outputs": [],
   "source": [
    "import pandas as pd\n",
    "\n",
    "#load the dataset\n",
    "#[to run in google colab]\n",
    "\n",
    "from google.colab import drive\n",
    "drive.mount('/content/drive')\n",
    "\n",
    "reviews_path = '/content/drive/My Drive/cw2-dataset/yelp_academic_dataset_review.json'\n",
    "\n",
    "chunk_size = 100000\n",
    "chunks = pd.read_json(reviews_path, lines=True, chunksize=chunk_size)\n"
   ],
   "metadata": {
    "collapsed": false
   },
   "id": "ab3198fa581a9777"
  },
  {
   "cell_type": "code",
   "execution_count": null,
   "outputs": [],
   "source": [
    "#tokenisation\n",
    "\n",
    "from transformers import BertTokenizer\n",
    "\n",
    "tokenizer = BertTokenizer.from_pretrained('bert-base-uncased')\n",
    "\n",
    "def tokenize_chunk(chunk):\n",
    "    tokenized_input = tokenizer(\n",
    "        chunk['text'].tolist(),\n",
    "        add_special_tokens=True,\n",
    "        max_length=512,\n",
    "        truncation=True,\n",
    "        padding='max_length',\n",
    "        return_attention_mask=True,\n",
    "        return_token_type_ids=False,\n",
    "        return_tensors='pt'\n",
    "    )\n",
    "    return tokenized_input\n"
   ],
   "metadata": {
    "collapsed": false
   },
   "id": "c5e4230ebf2fb855"
  }
 ],
 "metadata": {
  "kernelspec": {
   "display_name": "Python 3",
   "language": "python",
   "name": "python3"
  },
  "language_info": {
   "codemirror_mode": {
    "name": "ipython",
    "version": 2
   },
   "file_extension": ".py",
   "mimetype": "text/x-python",
   "name": "python",
   "nbconvert_exporter": "python",
   "pygments_lexer": "ipython2",
   "version": "2.7.6"
  }
 },
 "nbformat": 4,
 "nbformat_minor": 5
}
