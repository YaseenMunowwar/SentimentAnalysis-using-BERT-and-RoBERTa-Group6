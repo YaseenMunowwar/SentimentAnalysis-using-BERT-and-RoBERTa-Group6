{
 "cells": [
  {
   "cell_type": "code",
   "execution_count": null,
   "id": "initial_id",
   "metadata": {
    "collapsed": true
   },
   "outputs": [],
   "source": [
    "import re\n",
    "def clean_text(text):\n",
    "    # Example of basic text cleaning\n",
    "    text = re.sub(r'<.*?>', '', text)  # remove HTML tags\n",
    "    text = re.sub(r'[^\\w\\s]', '', text)  # remove punctuation\n",
    "    text = text.lower()  # convert to lowercase\n",
    "    return text\n",
    "\n",
    "def preprocess_chunk(chunk):\n",
    "    # Select relevant columns\n",
    "    chunk = chunk[['text', 'stars']]\n",
    "\n",
    "    # Clean text data\n",
    "    chunk['text'] = chunk['text'].apply(clean_text)\n",
    "\n",
    "    # Convert stars to binary sentiment labels (1-3 stars as 0, 4-5 stars as 1)\n",
    "    chunk['sentiment'] = chunk['stars'].apply(lambda x: 1 if x > 3 else 0)\n",
    "\n",
    "    # Handle missing values\n",
    "    chunk.dropna(inplace=True)\n",
    "\n",
    "    return chunk"
   ]
  }
 ],
 "metadata": {
  "kernelspec": {
   "display_name": "Python 3",
   "language": "python",
   "name": "python3"
  },
  "language_info": {
   "codemirror_mode": {
    "name": "ipython",
    "version": 2
   },
   "file_extension": ".py",
   "mimetype": "text/x-python",
   "name": "python",
   "nbconvert_exporter": "python",
   "pygments_lexer": "ipython2",
   "version": "2.7.6"
  }
 },
 "nbformat": 4,
 "nbformat_minor": 5
}
